{
 "cells": [
  {
   "cell_type": "markdown",
   "id": "bc180e38-56f2-4387-b93f-816d450c5817",
   "metadata": {},
   "source": [
    "# Descriptive Statistics:"
   ]
  },
  {
   "cell_type": "markdown",
   "id": "100bd455-d66b-48c0-824c-87f048ed151f",
   "metadata": {},
   "source": [
    "### Read a CSV file"
   ]
  },
  {
   "cell_type": "code",
   "execution_count": 1,
   "id": "42e2dbb6-c7c1-409f-a1fa-953155e24db6",
   "metadata": {},
   "outputs": [
    {
     "data": {
      "text/html": [
       "<div>\n",
       "<style scoped>\n",
       "    .dataframe tbody tr th:only-of-type {\n",
       "        vertical-align: middle;\n",
       "    }\n",
       "\n",
       "    .dataframe tbody tr th {\n",
       "        vertical-align: top;\n",
       "    }\n",
       "\n",
       "    .dataframe thead th {\n",
       "        text-align: right;\n",
       "    }\n",
       "</style>\n",
       "<table border=\"1\" class=\"dataframe\">\n",
       "  <thead>\n",
       "    <tr style=\"text-align: right;\">\n",
       "      <th></th>\n",
       "      <th>gender</th>\n",
       "      <th>race/ethnicity</th>\n",
       "      <th>parental level of education</th>\n",
       "      <th>lunch</th>\n",
       "      <th>test preparation course</th>\n",
       "      <th>math score</th>\n",
       "      <th>reading score</th>\n",
       "      <th>writing score</th>\n",
       "    </tr>\n",
       "  </thead>\n",
       "  <tbody>\n",
       "    <tr>\n",
       "      <th>0</th>\n",
       "      <td>female</td>\n",
       "      <td>group B</td>\n",
       "      <td>bachelor's degree</td>\n",
       "      <td>standard</td>\n",
       "      <td>none</td>\n",
       "      <td>72</td>\n",
       "      <td>72</td>\n",
       "      <td>74</td>\n",
       "    </tr>\n",
       "    <tr>\n",
       "      <th>1</th>\n",
       "      <td>female</td>\n",
       "      <td>group C</td>\n",
       "      <td>some college</td>\n",
       "      <td>standard</td>\n",
       "      <td>completed</td>\n",
       "      <td>69</td>\n",
       "      <td>90</td>\n",
       "      <td>88</td>\n",
       "    </tr>\n",
       "    <tr>\n",
       "      <th>2</th>\n",
       "      <td>female</td>\n",
       "      <td>group B</td>\n",
       "      <td>master's degree</td>\n",
       "      <td>standard</td>\n",
       "      <td>none</td>\n",
       "      <td>90</td>\n",
       "      <td>95</td>\n",
       "      <td>93</td>\n",
       "    </tr>\n",
       "    <tr>\n",
       "      <th>3</th>\n",
       "      <td>male</td>\n",
       "      <td>group A</td>\n",
       "      <td>associate's degree</td>\n",
       "      <td>free/reduced</td>\n",
       "      <td>none</td>\n",
       "      <td>47</td>\n",
       "      <td>57</td>\n",
       "      <td>44</td>\n",
       "    </tr>\n",
       "    <tr>\n",
       "      <th>4</th>\n",
       "      <td>male</td>\n",
       "      <td>group C</td>\n",
       "      <td>some college</td>\n",
       "      <td>standard</td>\n",
       "      <td>none</td>\n",
       "      <td>76</td>\n",
       "      <td>78</td>\n",
       "      <td>75</td>\n",
       "    </tr>\n",
       "  </tbody>\n",
       "</table>\n",
       "</div>"
      ],
      "text/plain": [
       "   gender race/ethnicity parental level of education         lunch  \\\n",
       "0  female        group B           bachelor's degree      standard   \n",
       "1  female        group C                some college      standard   \n",
       "2  female        group B             master's degree      standard   \n",
       "3    male        group A          associate's degree  free/reduced   \n",
       "4    male        group C                some college      standard   \n",
       "\n",
       "  test preparation course  math score  reading score  writing score  \n",
       "0                    none          72             72             74  \n",
       "1               completed          69             90             88  \n",
       "2                    none          90             95             93  \n",
       "3                    none          47             57             44  \n",
       "4                    none          76             78             75  "
      ]
     },
     "execution_count": 1,
     "metadata": {},
     "output_type": "execute_result"
    }
   ],
   "source": [
    "import pandas as pd\n",
    "import numpy as np\n",
    "\n",
    "# Load the dataset\n",
    "df = pd.read_csv('StudentsPerformance.csv')\n",
    "\n",
    "# Display first few rows\n",
    "df.head()\n"
   ]
  },
  {
   "cell_type": "markdown",
   "id": "64ae39c9-55a5-43c4-a9fd-1e2f4d532b5a",
   "metadata": {},
   "source": [
    "### Calculate mean, median, variance, and standard deviation for all three scores"
   ]
  },
  {
   "cell_type": "code",
   "execution_count": 7,
   "id": "36ccfd63-526c-420c-b4ef-140820b008ae",
   "metadata": {},
   "outputs": [
    {
     "name": "stdout",
     "output_type": "stream",
     "text": [
      "Descriptive Statistics for Math, Reading, and Writing Scores:\n",
      "        math score  reading score  writing score\n",
      "mean     66.089000      69.169000      68.054000\n",
      "median   66.000000      70.000000      69.000000\n",
      "var     229.918998     213.165605     230.907992\n",
      "std      15.163080      14.600192      15.195657\n"
     ]
    }
   ],
   "source": [
    "# Define the score columns\n",
    "score_columns = ['math score', 'reading score', 'writing score']\n",
    "\n",
    "# Calculate descriptive statistics\n",
    "desc_stats = df[score_columns].agg(['mean', 'median', 'var', 'std'])\n",
    "\n",
    "# Display the result\n",
    "print(\"Descriptive Statistics for Math, Reading, and Writing Scores:\")\n",
    "print(desc_stats)\n"
   ]
  },
  {
   "cell_type": "markdown",
   "id": "ae5b740c-ba11-4836-9872-3763421d1100",
   "metadata": {},
   "source": [
    "### Create summary tables showing average scores per category (e.g., lunch type, test prep)"
   ]
  },
  {
   "cell_type": "code",
   "execution_count": 8,
   "id": "dfe247bd-5c02-4c05-8921-5bca5ef3a61b",
   "metadata": {},
   "outputs": [
    {
     "name": "stdout",
     "output_type": "stream",
     "text": [
      "Average Scores by Lunch Type:\n",
      "              math score  reading score  writing score\n",
      "lunch                                                 \n",
      "free/reduced   58.921127      64.653521      63.022535\n",
      "standard       70.034109      71.654264      70.823256\n",
      "\n",
      "\n",
      "Average Scores by Test Preparation Course:\n",
      "                         math score  reading score  writing score\n",
      "test preparation course                                          \n",
      "completed                 69.695531      73.893855      74.418994\n",
      "none                      64.077882      66.534268      64.504673\n"
     ]
    }
   ],
   "source": [
    "# Define the score columns\n",
    "score_columns = ['math score', 'reading score', 'writing score']\n",
    "\n",
    "# Average scores by lunch type\n",
    "avg_by_lunch = df.groupby('lunch')[score_columns].mean()\n",
    "print(\"Average Scores by Lunch Type:\")\n",
    "print(avg_by_lunch)\n",
    "print(\"\\n\")\n",
    "\n",
    "# Average scores by test preparation course\n",
    "avg_by_test_prep = df.groupby('test preparation course')[score_columns].mean()\n",
    "print(\"Average Scores by Test Preparation Course:\")\n",
    "print(avg_by_test_prep)\n"
   ]
  },
  {
   "cell_type": "markdown",
   "id": "a83b7986-f9e6-4d24-983e-eebfc10632f3",
   "metadata": {},
   "source": [
    "### Calculate coefficient of variation for math, reading, and writing scores."
   ]
  },
  {
   "cell_type": "code",
   "execution_count": 9,
   "id": "13b513ab-947d-4793-8ff7-e6fd7523ea9a",
   "metadata": {},
   "outputs": [
    {
     "name": "stdout",
     "output_type": "stream",
     "text": [
      "Coefficient of Variation for Scores (in %):\n",
      "math score       22.94\n",
      "reading score    21.11\n",
      "writing score    22.33\n",
      "dtype: float64\n"
     ]
    }
   ],
   "source": [
    "# Coefficient of Variation (CV) = Standard Deviation / Mean\n",
    "cv_scores = df[score_columns].std() / df[score_columns].mean()\n",
    "\n",
    "# Convert to percentage for easier interpretation\n",
    "cv_percent = cv_scores * 100\n",
    "\n",
    "print(\"Coefficient of Variation for Scores (in %):\")\n",
    "print(cv_percent.round(2))\n"
   ]
  },
  {
   "cell_type": "markdown",
   "id": "d5262299-42c5-45d2-bde9-1397f14619c9",
   "metadata": {},
   "source": [
    "### Rank top 3 factors associated with high performance (based on group averages)."
   ]
  },
  {
   "cell_type": "code",
   "execution_count": 10,
   "id": "9e03acb3-49d3-4e0d-b100-2dcd732e4f02",
   "metadata": {},
   "outputs": [
    {
     "name": "stdout",
     "output_type": "stream",
     "text": [
      "Top 3 Factors Associated with High Performance:\n",
      "1. parental level of education — Highest Group Avg Score: 73.60\n",
      "2. race/ethnicity — Highest Group Avg Score: 72.75\n",
      "3. test preparation course — Highest Group Avg Score: 72.67\n"
     ]
    }
   ],
   "source": [
    "# Step 1: Add a column for average score\n",
    "df['average score'] = df[['math score', 'reading score', 'writing score']].mean(axis=1)\n",
    "\n",
    "# Step 2: List of categorical features to evaluate\n",
    "categorical_features = ['gender', 'race/ethnicity', 'parental level of education', 'lunch', 'test preparation course']\n",
    "\n",
    "# Step 3: Compute max average score within each category of each feature\n",
    "group_max_scores = {\n",
    "    feature: df.groupby(feature)['average score'].mean().max()\n",
    "    for feature in categorical_features\n",
    "}\n",
    "\n",
    "# Step 4: Rank the features by their best-performing group\n",
    "sorted_factors = sorted(group_max_scores.items(), key=lambda x: x[1], reverse=True)\n",
    "\n",
    "# Step 5: Display top 3 factors\n",
    "print(\"Top 3 Factors Associated with High Performance:\")\n",
    "for i, (feature, score) in enumerate(sorted_factors[:3], 1):\n",
    "    print(f\"{i}. {feature} — Highest Group Avg Score: {score:.2f}\")\n"
   ]
  },
  {
   "cell_type": "markdown",
   "id": "c335966f-ab8e-4199-8b4c-28d9f4b071f6",
   "metadata": {},
   "source": [
    "### Determine which feature (e.g., lunch type, gender) has the largest score variance."
   ]
  },
  {
   "cell_type": "code",
   "execution_count": 11,
   "id": "260e90b5-02dc-4aa0-a796-95dfe183bebd",
   "metadata": {},
   "outputs": [
    {
     "name": "stdout",
     "output_type": "stream",
     "text": [
      "Feature with the Largest Score Variance:\n",
      "parental level of education — Max Group Variance: 224.52\n"
     ]
    }
   ],
   "source": [
    "# Ensure average score column exists\n",
    "if 'average score' not in df.columns:\n",
    "    df['average score'] = df[['math score', 'reading score', 'writing score']].mean(axis=1)\n",
    "\n",
    "# Categorical features to evaluate\n",
    "categorical_features = ['gender', 'race/ethnicity', 'parental level of education', 'lunch', 'test preparation course']\n",
    "\n",
    "# Compute variance of average scores within each group\n",
    "feature_variances = {\n",
    "    feature: df.groupby(feature)['average score'].var().max()\n",
    "    for feature in categorical_features\n",
    "}\n",
    "\n",
    "# Find the feature with the largest group variance\n",
    "max_variance_feature = max(feature_variances, key=feature_variances.get)\n",
    "max_variance_value = feature_variances[max_variance_feature]\n",
    "\n",
    "# Print result\n",
    "print(\"Feature with the Largest Score Variance:\")\n",
    "print(f\"{max_variance_feature} — Max Group Variance: {max_variance_value:.2f}\")\n"
   ]
  },
  {
   "cell_type": "code",
   "execution_count": null,
   "id": "fbf8a91d",
   "metadata": {},
   "outputs": [],
   "source": []
  },
  {
   "cell_type": "code",
   "execution_count": null,
   "id": "925e69ab-9db2-4120-a307-949d8843bae5",
   "metadata": {},
   "outputs": [],
   "source": []
  },
  {
   "cell_type": "code",
   "execution_count": null,
   "id": "727cb77d-cfaa-41dd-b109-a45f32de218e",
   "metadata": {},
   "outputs": [],
   "source": []
  }
 ],
 "metadata": {
  "kernelspec": {
   "display_name": "Python 3 (ipykernel)",
   "language": "python",
   "name": "python3"
  },
  "language_info": {
   "codemirror_mode": {
    "name": "ipython",
    "version": 3
   },
   "file_extension": ".py",
   "mimetype": "text/x-python",
   "name": "python",
   "nbconvert_exporter": "python",
   "pygments_lexer": "ipython3",
   "version": "3.12.3"
  }
 },
 "nbformat": 4,
 "nbformat_minor": 5
}
